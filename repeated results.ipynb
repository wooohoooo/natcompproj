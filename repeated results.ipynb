{
 "cells": [
  {
   "cell_type": "code",
   "execution_count": null,
   "metadata": {},
   "outputs": [],
   "source": [
    "#from ensemble import RegressionEnsemble, MixedRegressionEnsemble, BootstrapEnsemble, ShuffleEnsemble\n",
    "import ensemble\n",
    "import importlib\n",
    "importlib.reload(ensemble)\n",
    "\n",
    "from sklearn.tree import DecisionTreeRegressor\n",
    "from sklearn.linear_model import LinearRegression\n",
    "from sklearn.neighbors import RadiusNeighborsRegressor, KNeighborsRegressor\n",
    "from sklearn.neural_network import MLPRegressor\n",
    "from sklearn.svm import SVR\n",
    "\n",
    "import numpy as np\n",
    "import matplotlib.pyplot as plt\n",
    "\n",
    "%matplotlib inline\n",
    "plt.rcParams['figure.figsize'] = [20, 10]\n",
    "\n",
    "\n",
    "from sklearn.datasets import load_boston\n",
    "from sklearn.model_selection import train_test_split\n",
    "\n",
    "import pandas as pd"
   ]
  },
  {
   "cell_type": "markdown",
   "metadata": {},
   "source": [
    "# Repeating the results"
   ]
  },
  {
   "cell_type": "code",
   "execution_count": 20,
   "metadata": {},
   "outputs": [],
   "source": [
    "boston = load_boston()\n",
    "y = boston.target\n",
    "X = boston.data\n",
    "\n",
    "X_train, X_test, y_train, y_test = train_test_split(X, y, test_size=0.33, random_state=42)\n",
    "\n",
    "num_experiments = 100\n",
    "hist_params = {'bins':25,'grid':False,'sharey':True,'sharex':False}#,'ylim':(0,30)}#,'sharex':True}#,'ylabelsize':1}\n",
    "#hist_params= {}#{'bins':25}"
   ]
  },
  {
   "cell_type": "markdown",
   "metadata": {},
   "source": [
    "## Simple trees"
   ]
  },
  {
   "cell_type": "code",
   "execution_count": 21,
   "metadata": {},
   "outputs": [],
   "source": [
    "results_list = []\n",
    "\n",
    "for i in range(num_experiments):\n",
    "    treeEnsemble = ensemble.RegressionEnsemble(10,DecisionTreeRegressor,seed = i+42)\n",
    "    treeEnsemble.fit(X_train,y_train)\n",
    "    results = treeEnsemble.self_evaluate(X_test,y_test)\n",
    "    results_list.append(results)\n",
    "    \n",
    "df_tree_results = pd.DataFrame.from_records(results_list)"
   ]
  },
  {
   "cell_type": "code",
   "execution_count": 22,
   "metadata": {},
   "outputs": [
    {
     "data": {
      "text/html": [
       "<div>\n",
       "<style scoped>\n",
       "    .dataframe tbody tr th:only-of-type {\n",
       "        vertical-align: middle;\n",
       "    }\n",
       "\n",
       "    .dataframe tbody tr th {\n",
       "        vertical-align: top;\n",
       "    }\n",
       "\n",
       "    .dataframe thead th {\n",
       "        text-align: right;\n",
       "    }\n",
       "</style>\n",
       "<table border=\"1\" class=\"dataframe\">\n",
       "  <thead>\n",
       "    <tr style=\"text-align: right;\">\n",
       "      <th></th>\n",
       "      <th>correlation between error and variance</th>\n",
       "      <th>coverage probability</th>\n",
       "      <th>error normalcy</th>\n",
       "      <th>rsme</th>\n",
       "    </tr>\n",
       "  </thead>\n",
       "  <tbody>\n",
       "    <tr>\n",
       "      <th>0</th>\n",
       "      <td>-0.029019</td>\n",
       "      <td>0.131737</td>\n",
       "      <td>244.215024</td>\n",
       "      <td>4.262507</td>\n",
       "    </tr>\n",
       "    <tr>\n",
       "      <th>1</th>\n",
       "      <td>-0.025103</td>\n",
       "      <td>0.131737</td>\n",
       "      <td>244.309858</td>\n",
       "      <td>4.271404</td>\n",
       "    </tr>\n",
       "    <tr>\n",
       "      <th>2</th>\n",
       "      <td>-0.016150</td>\n",
       "      <td>0.137725</td>\n",
       "      <td>243.869152</td>\n",
       "      <td>4.291311</td>\n",
       "    </tr>\n",
       "    <tr>\n",
       "      <th>3</th>\n",
       "      <td>-0.015190</td>\n",
       "      <td>0.125749</td>\n",
       "      <td>245.059659</td>\n",
       "      <td>4.279215</td>\n",
       "    </tr>\n",
       "    <tr>\n",
       "      <th>4</th>\n",
       "      <td>-0.017129</td>\n",
       "      <td>0.137725</td>\n",
       "      <td>245.650775</td>\n",
       "      <td>4.274653</td>\n",
       "    </tr>\n",
       "  </tbody>\n",
       "</table>\n",
       "</div>"
      ],
      "text/plain": [
       "   correlation between error and variance  coverage probability  \\\n",
       "0                               -0.029019              0.131737   \n",
       "1                               -0.025103              0.131737   \n",
       "2                               -0.016150              0.137725   \n",
       "3                               -0.015190              0.125749   \n",
       "4                               -0.017129              0.137725   \n",
       "\n",
       "   error normalcy      rsme  \n",
       "0      244.215024  4.262507  \n",
       "1      244.309858  4.271404  \n",
       "2      243.869152  4.291311  \n",
       "3      245.059659  4.279215  \n",
       "4      245.650775  4.274653  "
      ]
     },
     "execution_count": 22,
     "metadata": {},
     "output_type": "execute_result"
    }
   ],
   "source": [
    "df_tree_results.head()"
   ]
  },
  {
   "cell_type": "code",
   "execution_count": 23,
   "metadata": {},
   "outputs": [
    {
     "data": {
      "text/html": [
       "<div>\n",
       "<style scoped>\n",
       "    .dataframe tbody tr th:only-of-type {\n",
       "        vertical-align: middle;\n",
       "    }\n",
       "\n",
       "    .dataframe tbody tr th {\n",
       "        vertical-align: top;\n",
       "    }\n",
       "\n",
       "    .dataframe thead th {\n",
       "        text-align: right;\n",
       "    }\n",
       "</style>\n",
       "<table border=\"1\" class=\"dataframe\">\n",
       "  <thead>\n",
       "    <tr style=\"text-align: right;\">\n",
       "      <th></th>\n",
       "      <th>correlation between error and variance</th>\n",
       "      <th>coverage probability</th>\n",
       "      <th>error normalcy</th>\n",
       "      <th>rsme</th>\n",
       "    </tr>\n",
       "  </thead>\n",
       "  <tbody>\n",
       "    <tr>\n",
       "      <th>count</th>\n",
       "      <td>100.000000</td>\n",
       "      <td>100.000000</td>\n",
       "      <td>100.000000</td>\n",
       "      <td>100.000000</td>\n",
       "    </tr>\n",
       "    <tr>\n",
       "      <th>mean</th>\n",
       "      <td>-0.005667</td>\n",
       "      <td>0.123114</td>\n",
       "      <td>244.176372</td>\n",
       "      <td>4.301257</td>\n",
       "    </tr>\n",
       "    <tr>\n",
       "      <th>std</th>\n",
       "      <td>0.012656</td>\n",
       "      <td>0.010046</td>\n",
       "      <td>1.929781</td>\n",
       "      <td>0.028315</td>\n",
       "    </tr>\n",
       "    <tr>\n",
       "      <th>min</th>\n",
       "      <td>-0.035454</td>\n",
       "      <td>0.095808</td>\n",
       "      <td>239.790989</td>\n",
       "      <td>4.241548</td>\n",
       "    </tr>\n",
       "    <tr>\n",
       "      <th>25%</th>\n",
       "      <td>-0.015513</td>\n",
       "      <td>0.118263</td>\n",
       "      <td>242.759050</td>\n",
       "      <td>4.279030</td>\n",
       "    </tr>\n",
       "    <tr>\n",
       "      <th>50%</th>\n",
       "      <td>-0.003440</td>\n",
       "      <td>0.125749</td>\n",
       "      <td>244.502570</td>\n",
       "      <td>4.297514</td>\n",
       "    </tr>\n",
       "    <tr>\n",
       "      <th>75%</th>\n",
       "      <td>0.004464</td>\n",
       "      <td>0.131737</td>\n",
       "      <td>245.373501</td>\n",
       "      <td>4.325266</td>\n",
       "    </tr>\n",
       "    <tr>\n",
       "      <th>max</th>\n",
       "      <td>0.022294</td>\n",
       "      <td>0.143713</td>\n",
       "      <td>248.064378</td>\n",
       "      <td>4.364695</td>\n",
       "    </tr>\n",
       "  </tbody>\n",
       "</table>\n",
       "</div>"
      ],
      "text/plain": [
       "       correlation between error and variance  coverage probability  \\\n",
       "count                              100.000000            100.000000   \n",
       "mean                                -0.005667              0.123114   \n",
       "std                                  0.012656              0.010046   \n",
       "min                                 -0.035454              0.095808   \n",
       "25%                                 -0.015513              0.118263   \n",
       "50%                                 -0.003440              0.125749   \n",
       "75%                                  0.004464              0.131737   \n",
       "max                                  0.022294              0.143713   \n",
       "\n",
       "       error normalcy        rsme  \n",
       "count      100.000000  100.000000  \n",
       "mean       244.176372    4.301257  \n",
       "std          1.929781    0.028315  \n",
       "min        239.790989    4.241548  \n",
       "25%        242.759050    4.279030  \n",
       "50%        244.502570    4.297514  \n",
       "75%        245.373501    4.325266  \n",
       "max        248.064378    4.364695  "
      ]
     },
     "execution_count": 23,
     "metadata": {},
     "output_type": "execute_result"
    }
   ],
   "source": [
    "df_tree_results.describe()"
   ]
  },
  {
   "cell_type": "code",
   "execution_count": 24,
   "metadata": {},
   "outputs": [
    {
     "data": {
      "text/plain": [
       "array([[<matplotlib.axes._subplots.AxesSubplot object at 0x10e1562b0>,\n",
       "        <matplotlib.axes._subplots.AxesSubplot object at 0x10e4149b0>],\n",
       "       [<matplotlib.axes._subplots.AxesSubplot object at 0x10e45edd8>,\n",
       "        <matplotlib.axes._subplots.AxesSubplot object at 0x10e470fd0>]],\n",
       "      dtype=object)"
      ]
     },
     "execution_count": 24,
     "metadata": {},
     "output_type": "execute_result"
    },
    {
     "data": {
      "image/png": "[encoded data removed]",
      "text/plain": [
       "<matplotlib.figure.Figure at 0x10e13f9e8>"
      ]
     },
     "metadata": {},
     "output_type": "display_data"
    }
   ],
   "source": [
    "df_tree_results.hist(**hist_params)"
   ]
  },
  {
   "cell_type": "markdown",
   "metadata": {},
   "source": [
    "## mixed Ensembles"
   ]
  },
  {
   "cell_type": "code",
   "execution_count": 25,
   "metadata": {},
   "outputs": [],
   "source": [
    "results_list = []\n",
    "\n",
    "for i in range(num_experiments):\n",
    "    mixed_ensemble = ensemble.MixedRegressionEnsemble(models = [DecisionTreeRegressor(),\n",
    "                                                            #LinearRegression(),\n",
    "                                                            KNeighborsRegressor(),\n",
    "                                                            MLPRegressor(max_iter=1000),\n",
    "                                                           SVR()])\n",
    "    mixed_ensemble.fit(X_train,y_train)\n",
    "    results = mixed_ensemble.self_evaluate(X_test,y_test)\n",
    "    results_list.append(results)\n",
    "    \n",
    "df_mixed_results = pd.DataFrame.from_records(results_list)"
   ]
  },
  {
   "cell_type": "code",
   "execution_count": 26,
   "metadata": {},
   "outputs": [
    {
     "data": {
      "text/html": [
       "<div>\n",
       "<style scoped>\n",
       "    .dataframe tbody tr th:only-of-type {\n",
       "        vertical-align: middle;\n",
       "    }\n",
       "\n",
       "    .dataframe tbody tr th {\n",
       "        vertical-align: top;\n",
       "    }\n",
       "\n",
       "    .dataframe thead th {\n",
       "        text-align: right;\n",
       "    }\n",
       "</style>\n",
       "<table border=\"1\" class=\"dataframe\">\n",
       "  <thead>\n",
       "    <tr style=\"text-align: right;\">\n",
       "      <th></th>\n",
       "      <th>correlation between error and variance</th>\n",
       "      <th>coverage probability</th>\n",
       "      <th>error normalcy</th>\n",
       "      <th>rsme</th>\n",
       "    </tr>\n",
       "  </thead>\n",
       "  <tbody>\n",
       "    <tr>\n",
       "      <th>0</th>\n",
       "      <td>0.615060</td>\n",
       "      <td>0.784431</td>\n",
       "      <td>67.092632</td>\n",
       "      <td>7.412437</td>\n",
       "    </tr>\n",
       "    <tr>\n",
       "      <th>1</th>\n",
       "      <td>0.584325</td>\n",
       "      <td>0.604790</td>\n",
       "      <td>166.457016</td>\n",
       "      <td>4.874204</td>\n",
       "    </tr>\n",
       "    <tr>\n",
       "      <th>2</th>\n",
       "      <td>0.661081</td>\n",
       "      <td>0.724551</td>\n",
       "      <td>73.936554</td>\n",
       "      <td>7.564254</td>\n",
       "    </tr>\n",
       "    <tr>\n",
       "      <th>3</th>\n",
       "      <td>0.706786</td>\n",
       "      <td>0.844311</td>\n",
       "      <td>50.441689</td>\n",
       "      <td>8.829435</td>\n",
       "    </tr>\n",
       "    <tr>\n",
       "      <th>4</th>\n",
       "      <td>0.422455</td>\n",
       "      <td>0.640719</td>\n",
       "      <td>175.861020</td>\n",
       "      <td>5.472721</td>\n",
       "    </tr>\n",
       "  </tbody>\n",
       "</table>\n",
       "</div>"
      ],
      "text/plain": [
       "   correlation between error and variance  coverage probability  \\\n",
       "0                                0.615060              0.784431   \n",
       "1                                0.584325              0.604790   \n",
       "2                                0.661081              0.724551   \n",
       "3                                0.706786              0.844311   \n",
       "4                                0.422455              0.640719   \n",
       "\n",
       "   error normalcy      rsme  \n",
       "0       67.092632  7.412437  \n",
       "1      166.457016  4.874204  \n",
       "2       73.936554  7.564254  \n",
       "3       50.441689  8.829435  \n",
       "4      175.861020  5.472721  "
      ]
     },
     "execution_count": 26,
     "metadata": {},
     "output_type": "execute_result"
    }
   ],
   "source": [
    "df_mixed_results.head()"
   ]
  },
  {
   "cell_type": "code",
   "execution_count": 27,
   "metadata": {},
   "outputs": [
    {
     "data": {
      "text/html": [
       "<div>\n",
       "<style scoped>\n",
       "    .dataframe tbody tr th:only-of-type {\n",
       "        vertical-align: middle;\n",
       "    }\n",
       "\n",
       "    .dataframe tbody tr th {\n",
       "        vertical-align: top;\n",
       "    }\n",
       "\n",
       "    .dataframe thead th {\n",
       "        text-align: right;\n",
       "    }\n",
       "</style>\n",
       "<table border=\"1\" class=\"dataframe\">\n",
       "  <thead>\n",
       "    <tr style=\"text-align: right;\">\n",
       "      <th></th>\n",
       "      <th>correlation between error and variance</th>\n",
       "      <th>coverage probability</th>\n",
       "      <th>error normalcy</th>\n",
       "      <th>rsme</th>\n",
       "    </tr>\n",
       "  </thead>\n",
       "  <tbody>\n",
       "    <tr>\n",
       "      <th>count</th>\n",
       "      <td>100.000000</td>\n",
       "      <td>100.000000</td>\n",
       "      <td>100.000000</td>\n",
       "      <td>100.000000</td>\n",
       "    </tr>\n",
       "    <tr>\n",
       "      <th>mean</th>\n",
       "      <td>0.557819</td>\n",
       "      <td>0.730120</td>\n",
       "      <td>131.755518</td>\n",
       "      <td>6.811507</td>\n",
       "    </tr>\n",
       "    <tr>\n",
       "      <th>std</th>\n",
       "      <td>0.105775</td>\n",
       "      <td>0.106092</td>\n",
       "      <td>51.220366</td>\n",
       "      <td>1.650750</td>\n",
       "    </tr>\n",
       "    <tr>\n",
       "      <th>min</th>\n",
       "      <td>0.342335</td>\n",
       "      <td>0.532934</td>\n",
       "      <td>14.150427</td>\n",
       "      <td>4.538842</td>\n",
       "    </tr>\n",
       "    <tr>\n",
       "      <th>25%</th>\n",
       "      <td>0.486170</td>\n",
       "      <td>0.634731</td>\n",
       "      <td>80.238346</td>\n",
       "      <td>5.459057</td>\n",
       "    </tr>\n",
       "    <tr>\n",
       "      <th>50%</th>\n",
       "      <td>0.562146</td>\n",
       "      <td>0.715569</td>\n",
       "      <td>155.388436</td>\n",
       "      <td>6.499333</td>\n",
       "    </tr>\n",
       "    <tr>\n",
       "      <th>75%</th>\n",
       "      <td>0.614159</td>\n",
       "      <td>0.827844</td>\n",
       "      <td>169.877606</td>\n",
       "      <td>8.056561</td>\n",
       "    </tr>\n",
       "    <tr>\n",
       "      <th>max</th>\n",
       "      <td>0.870326</td>\n",
       "      <td>0.922156</td>\n",
       "      <td>216.952401</td>\n",
       "      <td>11.340634</td>\n",
       "    </tr>\n",
       "  </tbody>\n",
       "</table>\n",
       "</div>"
      ],
      "text/plain": [
       "       correlation between error and variance  coverage probability  \\\n",
       "count                              100.000000            100.000000   \n",
       "mean                                 0.557819              0.730120   \n",
       "std                                  0.105775              0.106092   \n",
       "min                                  0.342335              0.532934   \n",
       "25%                                  0.486170              0.634731   \n",
       "50%                                  0.562146              0.715569   \n",
       "75%                                  0.614159              0.827844   \n",
       "max                                  0.870326              0.922156   \n",
       "\n",
       "       error normalcy        rsme  \n",
       "count      100.000000  100.000000  \n",
       "mean       131.755518    6.811507  \n",
       "std         51.220366    1.650750  \n",
       "min         14.150427    4.538842  \n",
       "25%         80.238346    5.459057  \n",
       "50%        155.388436    6.499333  \n",
       "75%        169.877606    8.056561  \n",
       "max        216.952401   11.340634  "
      ]
     },
     "execution_count": 27,
     "metadata": {},
     "output_type": "execute_result"
    }
   ],
   "source": [
    "df_mixed_results.describe()"
   ]
  },
  {
   "cell_type": "code",
   "execution_count": 28,
   "metadata": {},
   "outputs": [
    {
     "data": {
      "text/plain": [
       "array([[<matplotlib.axes._subplots.AxesSubplot object at 0x10e5b0ba8>,\n",
       "        <matplotlib.axes._subplots.AxesSubplot object at 0x10e718cc0>],\n",
       "       [<matplotlib.axes._subplots.AxesSubplot object at 0x10ea13f28>,\n",
       "        <matplotlib.axes._subplots.AxesSubplot object at 0x10ea677b8>]],\n",
       "      dtype=object)"
      ]
     },
     "execution_count": 28,
     "metadata": {},
     "output_type": "execute_result"
    },
    {
     "data": {
      "image/png": "[encoded data removed]",
      "text/plain": [
       "<matplotlib.figure.Figure at 0x10e572278>"
      ]
     },
     "metadata": {},
     "output_type": "display_data"
    }
   ],
   "source": [
    "df_mixed_results.hist(**hist_params)"
   ]
  },
  {
   "cell_type": "markdown",
   "metadata": {},
   "source": [
    "## Bootstrap"
   ]
  },
  {
   "cell_type": "code",
   "execution_count": 29,
   "metadata": {},
   "outputs": [],
   "source": [
    "results_list = []\n",
    "\n",
    "for i in range(num_experiments):\n",
    "    bootstrap_ensemble = ensemble.BootstrapEnsemble()\n",
    "\n",
    "    bootstrap_ensemble.fit(X_train,y_train)\n",
    "    results = bootstrap_ensemble.self_evaluate(X_test,y_test)\n",
    "    results_list.append(results)\n",
    "    \n",
    "df_bootstrap_results = pd.DataFrame.from_records(results_list)"
   ]
  },
  {
   "cell_type": "code",
   "execution_count": 30,
   "metadata": {},
   "outputs": [
    {
     "data": {
      "text/html": [
       "<div>\n",
       "<style scoped>\n",
       "    .dataframe tbody tr th:only-of-type {\n",
       "        vertical-align: middle;\n",
       "    }\n",
       "\n",
       "    .dataframe tbody tr th {\n",
       "        vertical-align: top;\n",
       "    }\n",
       "\n",
       "    .dataframe thead th {\n",
       "        text-align: right;\n",
       "    }\n",
       "</style>\n",
       "<table border=\"1\" class=\"dataframe\">\n",
       "  <thead>\n",
       "    <tr style=\"text-align: right;\">\n",
       "      <th></th>\n",
       "      <th>correlation between error and variance</th>\n",
       "      <th>coverage probability</th>\n",
       "      <th>error normalcy</th>\n",
       "      <th>rsme</th>\n",
       "    </tr>\n",
       "  </thead>\n",
       "  <tbody>\n",
       "    <tr>\n",
       "      <th>0</th>\n",
       "      <td>0.370957</td>\n",
       "      <td>0.658683</td>\n",
       "      <td>321.648621</td>\n",
       "      <td>3.727518</td>\n",
       "    </tr>\n",
       "    <tr>\n",
       "      <th>1</th>\n",
       "      <td>0.359295</td>\n",
       "      <td>0.736527</td>\n",
       "      <td>312.501487</td>\n",
       "      <td>3.762579</td>\n",
       "    </tr>\n",
       "    <tr>\n",
       "      <th>2</th>\n",
       "      <td>0.380119</td>\n",
       "      <td>0.688623</td>\n",
       "      <td>320.943337</td>\n",
       "      <td>3.710710</td>\n",
       "    </tr>\n",
       "    <tr>\n",
       "      <th>3</th>\n",
       "      <td>0.389304</td>\n",
       "      <td>0.688623</td>\n",
       "      <td>319.146080</td>\n",
       "      <td>3.676241</td>\n",
       "    </tr>\n",
       "    <tr>\n",
       "      <th>4</th>\n",
       "      <td>0.398665</td>\n",
       "      <td>0.676647</td>\n",
       "      <td>313.284372</td>\n",
       "      <td>3.788989</td>\n",
       "    </tr>\n",
       "  </tbody>\n",
       "</table>\n",
       "</div>"
      ],
      "text/plain": [
       "   correlation between error and variance  coverage probability  \\\n",
       "0                                0.370957              0.658683   \n",
       "1                                0.359295              0.736527   \n",
       "2                                0.380119              0.688623   \n",
       "3                                0.389304              0.688623   \n",
       "4                                0.398665              0.676647   \n",
       "\n",
       "   error normalcy      rsme  \n",
       "0      321.648621  3.727518  \n",
       "1      312.501487  3.762579  \n",
       "2      320.943337  3.710710  \n",
       "3      319.146080  3.676241  \n",
       "4      313.284372  3.788989  "
      ]
     },
     "execution_count": 30,
     "metadata": {},
     "output_type": "execute_result"
    }
   ],
   "source": [
    "df_bootstrap_results.head()"
   ]
  },
  {
   "cell_type": "code",
   "execution_count": 31,
   "metadata": {},
   "outputs": [
    {
     "data": {
      "text/html": [
       "<div>\n",
       "<style scoped>\n",
       "    .dataframe tbody tr th:only-of-type {\n",
       "        vertical-align: middle;\n",
       "    }\n",
       "\n",
       "    .dataframe tbody tr th {\n",
       "        vertical-align: top;\n",
       "    }\n",
       "\n",
       "    .dataframe thead th {\n",
       "        text-align: right;\n",
       "    }\n",
       "</style>\n",
       "<table border=\"1\" class=\"dataframe\">\n",
       "  <thead>\n",
       "    <tr style=\"text-align: right;\">\n",
       "      <th></th>\n",
       "      <th>correlation between error and variance</th>\n",
       "      <th>coverage probability</th>\n",
       "      <th>error normalcy</th>\n",
       "      <th>rsme</th>\n",
       "    </tr>\n",
       "  </thead>\n",
       "  <tbody>\n",
       "    <tr>\n",
       "      <th>count</th>\n",
       "      <td>100.000000</td>\n",
       "      <td>100.000000</td>\n",
       "      <td>100.000000</td>\n",
       "      <td>100.000000</td>\n",
       "    </tr>\n",
       "    <tr>\n",
       "      <th>mean</th>\n",
       "      <td>0.391080</td>\n",
       "      <td>0.696347</td>\n",
       "      <td>315.313693</td>\n",
       "      <td>3.746593</td>\n",
       "    </tr>\n",
       "    <tr>\n",
       "      <th>std</th>\n",
       "      <td>0.018719</td>\n",
       "      <td>0.020801</td>\n",
       "      <td>3.692304</td>\n",
       "      <td>0.042817</td>\n",
       "    </tr>\n",
       "    <tr>\n",
       "      <th>min</th>\n",
       "      <td>0.327582</td>\n",
       "      <td>0.646707</td>\n",
       "      <td>304.651204</td>\n",
       "      <td>3.664446</td>\n",
       "    </tr>\n",
       "    <tr>\n",
       "      <th>25%</th>\n",
       "      <td>0.379266</td>\n",
       "      <td>0.682635</td>\n",
       "      <td>312.826195</td>\n",
       "      <td>3.717516</td>\n",
       "    </tr>\n",
       "    <tr>\n",
       "      <th>50%</th>\n",
       "      <td>0.389450</td>\n",
       "      <td>0.694611</td>\n",
       "      <td>315.372021</td>\n",
       "      <td>3.738839</td>\n",
       "    </tr>\n",
       "    <tr>\n",
       "      <th>75%</th>\n",
       "      <td>0.403458</td>\n",
       "      <td>0.706587</td>\n",
       "      <td>317.790010</td>\n",
       "      <td>3.779677</td>\n",
       "    </tr>\n",
       "    <tr>\n",
       "      <th>max</th>\n",
       "      <td>0.433663</td>\n",
       "      <td>0.742515</td>\n",
       "      <td>323.901292</td>\n",
       "      <td>3.891531</td>\n",
       "    </tr>\n",
       "  </tbody>\n",
       "</table>\n",
       "</div>"
      ],
      "text/plain": [
       "       correlation between error and variance  coverage probability  \\\n",
       "count                              100.000000            100.000000   \n",
       "mean                                 0.391080              0.696347   \n",
       "std                                  0.018719              0.020801   \n",
       "min                                  0.327582              0.646707   \n",
       "25%                                  0.379266              0.682635   \n",
       "50%                                  0.389450              0.694611   \n",
       "75%                                  0.403458              0.706587   \n",
       "max                                  0.433663              0.742515   \n",
       "\n",
       "       error normalcy        rsme  \n",
       "count      100.000000  100.000000  \n",
       "mean       315.313693    3.746593  \n",
       "std          3.692304    0.042817  \n",
       "min        304.651204    3.664446  \n",
       "25%        312.826195    3.717516  \n",
       "50%        315.372021    3.738839  \n",
       "75%        317.790010    3.779677  \n",
       "max        323.901292    3.891531  "
      ]
     },
     "execution_count": 31,
     "metadata": {},
     "output_type": "execute_result"
    }
   ],
   "source": [
    "df_bootstrap_results.describe()"
   ]
  },
  {
   "cell_type": "code",
   "execution_count": 32,
   "metadata": {},
   "outputs": [
    {
     "data": {
      "text/plain": [
       "array([[<matplotlib.axes._subplots.AxesSubplot object at 0x10eab4978>,\n",
       "        <matplotlib.axes._subplots.AxesSubplot object at 0x10cbb9e10>],\n",
       "       [<matplotlib.axes._subplots.AxesSubplot object at 0x10ec216a0>,\n",
       "        <matplotlib.axes._subplots.AxesSubplot object at 0x10d6b4cf8>]],\n",
       "      dtype=object)"
      ]
     },
     "execution_count": 32,
     "metadata": {},
     "output_type": "execute_result"
    },
    {
     "data": {
      "image/png": "[encoded data removed]",
      "text/plain": [
       "<matplotlib.figure.Figure at 0x10ea796d8>"
      ]
     },
     "metadata": {},
     "output_type": "display_data"
    }
   ],
   "source": [
    "df_bootstrap_results.hist(**hist_params)"
   ]
  },
  {
   "cell_type": "code",
   "execution_count": null,
   "metadata": {},
   "outputs": [],
   "source": []
  },
  {
   "cell_type": "markdown",
   "metadata": {},
   "source": [
    "## Different Data Shuffling"
   ]
  },
  {
   "cell_type": "code",
   "execution_count": 33,
   "metadata": {},
   "outputs": [],
   "source": [
    "results_list = []\n",
    "\n",
    "for i in range(num_experiments):\n",
    "    shuffle_ensemble = ensemble.ShuffleEnsemble()\n",
    "    shuffle_ensemble.fit(X_train,y_train)\n",
    "    results = shuffle_ensemble.self_evaluate(X_test,y_test)\n",
    "    results_list.append(results)\n",
    "    \n",
    "df_shuffle_results = pd.DataFrame.from_records(results_list)"
   ]
  },
  {
   "cell_type": "code",
   "execution_count": 34,
   "metadata": {},
   "outputs": [
    {
     "data": {
      "text/html": [
       "<div>\n",
       "<style scoped>\n",
       "    .dataframe tbody tr th:only-of-type {\n",
       "        vertical-align: middle;\n",
       "    }\n",
       "\n",
       "    .dataframe tbody tr th {\n",
       "        vertical-align: top;\n",
       "    }\n",
       "\n",
       "    .dataframe thead th {\n",
       "        text-align: right;\n",
       "    }\n",
       "</style>\n",
       "<table border=\"1\" class=\"dataframe\">\n",
       "  <thead>\n",
       "    <tr style=\"text-align: right;\">\n",
       "      <th></th>\n",
       "      <th>correlation between error and variance</th>\n",
       "      <th>coverage probability</th>\n",
       "      <th>error normalcy</th>\n",
       "      <th>rsme</th>\n",
       "    </tr>\n",
       "  </thead>\n",
       "  <tbody>\n",
       "    <tr>\n",
       "      <th>0</th>\n",
       "      <td>-0.031504</td>\n",
       "      <td>0.167665</td>\n",
       "      <td>249.474048</td>\n",
       "      <td>4.239538</td>\n",
       "    </tr>\n",
       "    <tr>\n",
       "      <th>1</th>\n",
       "      <td>-0.040539</td>\n",
       "      <td>0.161677</td>\n",
       "      <td>243.612311</td>\n",
       "      <td>4.308586</td>\n",
       "    </tr>\n",
       "    <tr>\n",
       "      <th>2</th>\n",
       "      <td>-0.052708</td>\n",
       "      <td>0.149701</td>\n",
       "      <td>243.948621</td>\n",
       "      <td>4.283286</td>\n",
       "    </tr>\n",
       "    <tr>\n",
       "      <th>3</th>\n",
       "      <td>-0.032843</td>\n",
       "      <td>0.155689</td>\n",
       "      <td>245.782743</td>\n",
       "      <td>4.281922</td>\n",
       "    </tr>\n",
       "    <tr>\n",
       "      <th>4</th>\n",
       "      <td>-0.027134</td>\n",
       "      <td>0.149701</td>\n",
       "      <td>243.377953</td>\n",
       "      <td>4.300101</td>\n",
       "    </tr>\n",
       "  </tbody>\n",
       "</table>\n",
       "</div>"
      ],
      "text/plain": [
       "   correlation between error and variance  coverage probability  \\\n",
       "0                               -0.031504              0.167665   \n",
       "1                               -0.040539              0.161677   \n",
       "2                               -0.052708              0.149701   \n",
       "3                               -0.032843              0.155689   \n",
       "4                               -0.027134              0.149701   \n",
       "\n",
       "   error normalcy      rsme  \n",
       "0      249.474048  4.239538  \n",
       "1      243.612311  4.308586  \n",
       "2      243.948621  4.283286  \n",
       "3      245.782743  4.281922  \n",
       "4      243.377953  4.300101  "
      ]
     },
     "execution_count": 34,
     "metadata": {},
     "output_type": "execute_result"
    }
   ],
   "source": [
    "df_shuffle_results.head()"
   ]
  },
  {
   "cell_type": "code",
   "execution_count": 35,
   "metadata": {},
   "outputs": [
    {
     "data": {
      "text/html": [
       "<div>\n",
       "<style scoped>\n",
       "    .dataframe tbody tr th:only-of-type {\n",
       "        vertical-align: middle;\n",
       "    }\n",
       "\n",
       "    .dataframe tbody tr th {\n",
       "        vertical-align: top;\n",
       "    }\n",
       "\n",
       "    .dataframe thead th {\n",
       "        text-align: right;\n",
       "    }\n",
       "</style>\n",
       "<table border=\"1\" class=\"dataframe\">\n",
       "  <thead>\n",
       "    <tr style=\"text-align: right;\">\n",
       "      <th></th>\n",
       "      <th>correlation between error and variance</th>\n",
       "      <th>coverage probability</th>\n",
       "      <th>error normalcy</th>\n",
       "      <th>rsme</th>\n",
       "    </tr>\n",
       "  </thead>\n",
       "  <tbody>\n",
       "    <tr>\n",
       "      <th>count</th>\n",
       "      <td>100.000000</td>\n",
       "      <td>100.000000</td>\n",
       "      <td>100.000000</td>\n",
       "      <td>100.000000</td>\n",
       "    </tr>\n",
       "    <tr>\n",
       "      <th>mean</th>\n",
       "      <td>-0.038925</td>\n",
       "      <td>0.151018</td>\n",
       "      <td>245.526925</td>\n",
       "      <td>4.280061</td>\n",
       "    </tr>\n",
       "    <tr>\n",
       "      <th>std</th>\n",
       "      <td>0.012156</td>\n",
       "      <td>0.010919</td>\n",
       "      <td>2.198169</td>\n",
       "      <td>0.033749</td>\n",
       "    </tr>\n",
       "    <tr>\n",
       "      <th>min</th>\n",
       "      <td>-0.072668</td>\n",
       "      <td>0.125749</td>\n",
       "      <td>238.182175</td>\n",
       "      <td>4.207380</td>\n",
       "    </tr>\n",
       "    <tr>\n",
       "      <th>25%</th>\n",
       "      <td>-0.045972</td>\n",
       "      <td>0.143713</td>\n",
       "      <td>243.930171</td>\n",
       "      <td>4.257634</td>\n",
       "    </tr>\n",
       "    <tr>\n",
       "      <th>50%</th>\n",
       "      <td>-0.037889</td>\n",
       "      <td>0.149701</td>\n",
       "      <td>245.627245</td>\n",
       "      <td>4.280791</td>\n",
       "    </tr>\n",
       "    <tr>\n",
       "      <th>75%</th>\n",
       "      <td>-0.030852</td>\n",
       "      <td>0.161677</td>\n",
       "      <td>246.984463</td>\n",
       "      <td>4.300194</td>\n",
       "    </tr>\n",
       "    <tr>\n",
       "      <th>max</th>\n",
       "      <td>-0.009569</td>\n",
       "      <td>0.179641</td>\n",
       "      <td>250.027615</td>\n",
       "      <td>4.392064</td>\n",
       "    </tr>\n",
       "  </tbody>\n",
       "</table>\n",
       "</div>"
      ],
      "text/plain": [
       "       correlation between error and variance  coverage probability  \\\n",
       "count                              100.000000            100.000000   \n",
       "mean                                -0.038925              0.151018   \n",
       "std                                  0.012156              0.010919   \n",
       "min                                 -0.072668              0.125749   \n",
       "25%                                 -0.045972              0.143713   \n",
       "50%                                 -0.037889              0.149701   \n",
       "75%                                 -0.030852              0.161677   \n",
       "max                                 -0.009569              0.179641   \n",
       "\n",
       "       error normalcy        rsme  \n",
       "count      100.000000  100.000000  \n",
       "mean       245.526925    4.280061  \n",
       "std          2.198169    0.033749  \n",
       "min        238.182175    4.207380  \n",
       "25%        243.930171    4.257634  \n",
       "50%        245.627245    4.280791  \n",
       "75%        246.984463    4.300194  \n",
       "max        250.027615    4.392064  "
      ]
     },
     "execution_count": 35,
     "metadata": {},
     "output_type": "execute_result"
    }
   ],
   "source": [
    "df_shuffle_results.describe()"
   ]
  },
  {
   "cell_type": "code",
   "execution_count": 36,
   "metadata": {},
   "outputs": [
    {
     "data": {
      "text/plain": [
       "array([[<matplotlib.axes._subplots.AxesSubplot object at 0x10f0d0278>,\n",
       "        <matplotlib.axes._subplots.AxesSubplot object at 0x10f3c74a8>],\n",
       "       [<matplotlib.axes._subplots.AxesSubplot object at 0x10f3ce5c0>,\n",
       "        <matplotlib.axes._subplots.AxesSubplot object at 0x10f457390>]],\n",
       "      dtype=object)"
      ]
     },
     "execution_count": 36,
     "metadata": {},
     "output_type": "execute_result"
    },
    {
     "data": {
      "image/png": "[encoded data removed]",
      "text/plain": [
       "<matplotlib.figure.Figure at 0x10e54b8d0>"
      ]
     },
     "metadata": {},
     "output_type": "display_data"
    }
   ],
   "source": [
    "df_shuffle_results.hist(**hist_params)"
   ]
  },
  {
   "cell_type": "code",
   "execution_count": null,
   "metadata": {},
   "outputs": [],
   "source": []
  },
  {
   "cell_type": "code",
   "execution_count": null,
   "metadata": {},
   "outputs": [],
   "source": []
  },
  {
   "cell_type": "code",
   "execution_count": null,
   "metadata": {},
   "outputs": [],
   "source": []
  },
  {
   "cell_type": "code",
   "execution_count": null,
   "metadata": {},
   "outputs": [],
   "source": []
  },
  {
   "cell_type": "code",
   "execution_count": null,
   "metadata": {},
   "outputs": [],
   "source": []
  },
  {
   "cell_type": "code",
   "execution_count": null,
   "metadata": {},
   "outputs": [],
   "source": []
  },
  {
   "cell_type": "code",
   "execution_count": null,
   "metadata": {},
   "outputs": [],
   "source": []
  },
  {
   "cell_type": "code",
   "execution_count": null,
   "metadata": {},
   "outputs": [],
   "source": []
  }
 ],
 "metadata": {
  "kernelspec": {
   "display_name": "Python 3",
   "language": "python",
   "name": "python3"
  },
  "language_info": {
   "codemirror_mode": {
    "name": "ipython",
    "version": 3
   },
   "file_extension": ".py",
   "mimetype": "text/x-python",
   "name": "python",
   "nbconvert_exporter": "python",
   "pygments_lexer": "ipython3",
   "version": "3.5.4"
  }
 },
 "nbformat": 4,
 "nbformat_minor": 2
}
