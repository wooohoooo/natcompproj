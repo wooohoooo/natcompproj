{
 "cells": [
  {
   "cell_type": "code",
   "execution_count": 1,
   "metadata": {},
   "outputs": [],
   "source": [
    "#from ensemble import RegressionEnsemble, MixedRegressionEnsemble, BootstrapEnsemble, ShuffleEnsemble\n",
    "import ensemble\n",
    "import importlib\n",
    "importlib.reload(ensemble)\n",
    "\n",
    "from sklearn.tree import DecisionTreeRegressor\n",
    "from sklearn.linear_model import LinearRegression\n",
    "from sklearn.neighbors import RadiusNeighborsRegressor, KNeighborsRegressor\n",
    "from sklearn.neural_network import MLPRegressor\n",
    "from sklearn.svm import SVR\n",
    "\n",
    "import numpy as np\n",
    "import matplotlib.pyplot as plt\n",
    "\n",
    "%matplotlib inline\n",
    "plt.rcParams['figure.figsize'] = [20, 10]\n",
    "\n",
    "\n",
    "from sklearn.datasets import load_boston\n",
    "from sklearn.model_selection import train_test_split\n",
    "\n",
    "import pandas as pd"
   ]
  },
  {
   "cell_type": "markdown",
   "metadata": {},
   "source": [
    "# Repeating the results"
   ]
  },
  {
   "cell_type": "code",
   "execution_count": 2,
   "metadata": {},
   "outputs": [],
   "source": [
    "boston = load_boston()\n",
    "y = boston.target\n",
    "X = boston.data\n",
    "\n",
    "X_train, X_test, y_train, y_test = train_test_split(X, y, test_size=0.33, random_state=42)\n",
    "\n",
    "num_experiments = 100\n",
    "hist_params = {'bins':25}\n"
   ]
  },
  {
   "cell_type": "markdown",
   "metadata": {},
   "source": [
    "## Simple trees"
   ]
  },
  {
   "cell_type": "code",
   "execution_count": 3,
   "metadata": {},
   "outputs": [],
   "source": [
    "results_list = []\n",
    "\n",
    "for i in range(num_experiments):\n",
    "    treeEnsemble = ensemble.RegressionEnsemble(10,DecisionTreeRegressor,seed = i+42)\n",
    "    treeEnsemble.fit(X_train,y_train)\n",
    "    results = treeEnsemble.self_evaluate(X_test,y_test)\n",
    "    results_list.append(results)\n",
    "    \n",
    "df_tree_results = pd.DataFrame.from_records(results_list)"
   ]
  },
  {
   "cell_type": "code",
   "execution_count": 4,
   "metadata": {},
   "outputs": [
    {
     "data": {
      "text/html": [
       "<div>\n",
       "<style>\n",
       "    .dataframe thead tr:only-child th {\n",
       "        text-align: right;\n",
       "    }\n",
       "\n",
       "    .dataframe thead th {\n",
       "        text-align: left;\n",
       "    }\n",
       "\n",
       "    .dataframe tbody tr th {\n",
       "        vertical-align: top;\n",
       "    }\n",
       "</style>\n",
       "<table border=\"1\" class=\"dataframe\">\n",
       "  <thead>\n",
       "    <tr style=\"text-align: right;\">\n",
       "      <th></th>\n",
       "      <th>correlation between error and variance</th>\n",
       "      <th>coverage probability</th>\n",
       "      <th>error normalcy</th>\n",
       "      <th>rsme</th>\n",
       "    </tr>\n",
       "  </thead>\n",
       "  <tbody>\n",
       "    <tr>\n",
       "      <th>0</th>\n",
       "      <td>-0.029019</td>\n",
       "      <td>0.131737</td>\n",
       "      <td>244.215024</td>\n",
       "      <td>4.262507</td>\n",
       "    </tr>\n",
       "    <tr>\n",
       "      <th>1</th>\n",
       "      <td>-0.025103</td>\n",
       "      <td>0.131737</td>\n",
       "      <td>244.309858</td>\n",
       "      <td>4.271404</td>\n",
       "    </tr>\n",
       "    <tr>\n",
       "      <th>2</th>\n",
       "      <td>-0.016150</td>\n",
       "      <td>0.137725</td>\n",
       "      <td>243.869152</td>\n",
       "      <td>4.291311</td>\n",
       "    </tr>\n",
       "    <tr>\n",
       "      <th>3</th>\n",
       "      <td>-0.015190</td>\n",
       "      <td>0.125749</td>\n",
       "      <td>245.059659</td>\n",
       "      <td>4.279215</td>\n",
       "    </tr>\n",
       "    <tr>\n",
       "      <th>4</th>\n",
       "      <td>-0.017129</td>\n",
       "      <td>0.137725</td>\n",
       "      <td>245.650775</td>\n",
       "      <td>4.274653</td>\n",
       "    </tr>\n",
       "  </tbody>\n",
       "</table>\n",
       "</div>"
      ],
      "text/plain": [
       "   correlation between error and variance  coverage probability  \\\n",
       "0                               -0.029019              0.131737   \n",
       "1                               -0.025103              0.131737   \n",
       "2                               -0.016150              0.137725   \n",
       "3                               -0.015190              0.125749   \n",
       "4                               -0.017129              0.137725   \n",
       "\n",
       "   error normalcy      rsme  \n",
       "0      244.215024  4.262507  \n",
       "1      244.309858  4.271404  \n",
       "2      243.869152  4.291311  \n",
       "3      245.059659  4.279215  \n",
       "4      245.650775  4.274653  "
      ]
     },
     "execution_count": 4,
     "metadata": {},
     "output_type": "execute_result"
    }
   ],
   "source": [
    "df_tree_results.head()"
   ]
  },
  {
   "cell_type": "code",
   "execution_count": 5,
   "metadata": {},
   "outputs": [
    {
     "data": {
      "text/html": [
       "<div>\n",
       "<style>\n",
       "    .dataframe thead tr:only-child th {\n",
       "        text-align: right;\n",
       "    }\n",
       "\n",
       "    .dataframe thead th {\n",
       "        text-align: left;\n",
       "    }\n",
       "\n",
       "    .dataframe tbody tr th {\n",
       "        vertical-align: top;\n",
       "    }\n",
       "</style>\n",
       "<table border=\"1\" class=\"dataframe\">\n",
       "  <thead>\n",
       "    <tr style=\"text-align: right;\">\n",
       "      <th></th>\n",
       "      <th>correlation between error and variance</th>\n",
       "      <th>coverage probability</th>\n",
       "      <th>error normalcy</th>\n",
       "      <th>rsme</th>\n",
       "    </tr>\n",
       "  </thead>\n",
       "  <tbody>\n",
       "    <tr>\n",
       "      <th>count</th>\n",
       "      <td>100.000000</td>\n",
       "      <td>100.000000</td>\n",
       "      <td>100.000000</td>\n",
       "      <td>100.000000</td>\n",
       "    </tr>\n",
       "    <tr>\n",
       "      <th>mean</th>\n",
       "      <td>-0.005667</td>\n",
       "      <td>0.123114</td>\n",
       "      <td>244.176372</td>\n",
       "      <td>4.301257</td>\n",
       "    </tr>\n",
       "    <tr>\n",
       "      <th>std</th>\n",
       "      <td>0.012656</td>\n",
       "      <td>0.010046</td>\n",
       "      <td>1.929781</td>\n",
       "      <td>0.028315</td>\n",
       "    </tr>\n",
       "    <tr>\n",
       "      <th>min</th>\n",
       "      <td>-0.035454</td>\n",
       "      <td>0.095808</td>\n",
       "      <td>239.790989</td>\n",
       "      <td>4.241548</td>\n",
       "    </tr>\n",
       "    <tr>\n",
       "      <th>25%</th>\n",
       "      <td>-0.015513</td>\n",
       "      <td>0.118263</td>\n",
       "      <td>242.759050</td>\n",
       "      <td>4.279030</td>\n",
       "    </tr>\n",
       "    <tr>\n",
       "      <th>50%</th>\n",
       "      <td>-0.003440</td>\n",
       "      <td>0.125749</td>\n",
       "      <td>244.502570</td>\n",
       "      <td>4.297514</td>\n",
       "    </tr>\n",
       "    <tr>\n",
       "      <th>75%</th>\n",
       "      <td>0.004464</td>\n",
       "      <td>0.131737</td>\n",
       "      <td>245.373501</td>\n",
       "      <td>4.325266</td>\n",
       "    </tr>\n",
       "    <tr>\n",
       "      <th>max</th>\n",
       "      <td>0.022294</td>\n",
       "      <td>0.143713</td>\n",
       "      <td>248.064378</td>\n",
       "      <td>4.364695</td>\n",
       "    </tr>\n",
       "  </tbody>\n",
       "</table>\n",
       "</div>"
      ],
      "text/plain": [
       "       correlation between error and variance  coverage probability  \\\n",
       "count                              100.000000            100.000000   \n",
       "mean                                -0.005667              0.123114   \n",
       "std                                  0.012656              0.010046   \n",
       "min                                 -0.035454              0.095808   \n",
       "25%                                 -0.015513              0.118263   \n",
       "50%                                 -0.003440              0.125749   \n",
       "75%                                  0.004464              0.131737   \n",
       "max                                  0.022294              0.143713   \n",
       "\n",
       "       error normalcy        rsme  \n",
       "count      100.000000  100.000000  \n",
       "mean       244.176372    4.301257  \n",
       "std          1.929781    0.028315  \n",
       "min        239.790989    4.241548  \n",
       "25%        242.759050    4.279030  \n",
       "50%        244.502570    4.297514  \n",
       "75%        245.373501    4.325266  \n",
       "max        248.064378    4.364695  "
      ]
     },
     "execution_count": 5,
     "metadata": {},
     "output_type": "execute_result"
    }
   ],
   "source": [
    "df_tree_results.describe()"
   ]
  },
  {
   "cell_type": "code",
   "execution_count": 6,
   "metadata": {},
   "outputs": [
    {
     "data": {
      "text/plain": [
       "array([[<matplotlib.axes._subplots.AxesSubplot object at 0x117ac6c18>,\n",
       "        <matplotlib.axes._subplots.AxesSubplot object at 0x11ae2df98>],\n",
       "       [<matplotlib.axes._subplots.AxesSubplot object at 0x11ae43748>,\n",
       "        <matplotlib.axes._subplots.AxesSubplot object at 0x11aecd048>]], dtype=object)"
      ]
     },
     "execution_count": 6,
     "metadata": {},
     "output_type": "execute_result"
    },
    {
     "data": {
      "image/png": "[encoded data removed]",
      "text/plain": [
       "<matplotlib.figure.Figure at 0x117ac6630>"
      ]
     },
     "metadata": {},
     "output_type": "display_data"
    }
   ],
   "source": [
    "df_tree_results.hist(**hist_params)"
   ]
  },
  {
   "cell_type": "markdown",
   "metadata": {},
   "source": [
    "## mixed Ensembles"
   ]
  },
  {
   "cell_type": "code",
   "execution_count": 7,
   "metadata": {},
   "outputs": [],
   "source": [
    "results_list = []\n",
    "\n",
    "for i in range(num_experiments):\n",
    "    mixed_ensemble = ensemble.MixedRegressionEnsemble(models = [DecisionTreeRegressor(),\n",
    "                                                            #LinearRegression(),\n",
    "                                                            KNeighborsRegressor(),\n",
    "                                                            MLPRegressor(max_iter=1000),\n",
    "                                                           SVR()])\n",
    "    mixed_ensemble.fit(X_train,y_train)\n",
    "    results = mixed_ensemble.self_evaluate(X_test,y_test)\n",
    "    results_list.append(results)\n",
    "    \n",
    "df_mixed_results = pd.DataFrame.from_records(results_list)"
   ]
  },
  {
   "cell_type": "code",
   "execution_count": 8,
   "metadata": {},
   "outputs": [
    {
     "data": {
      "text/html": [
       "<div>\n",
       "<style>\n",
       "    .dataframe thead tr:only-child th {\n",
       "        text-align: right;\n",
       "    }\n",
       "\n",
       "    .dataframe thead th {\n",
       "        text-align: left;\n",
       "    }\n",
       "\n",
       "    .dataframe tbody tr th {\n",
       "        vertical-align: top;\n",
       "    }\n",
       "</style>\n",
       "<table border=\"1\" class=\"dataframe\">\n",
       "  <thead>\n",
       "    <tr style=\"text-align: right;\">\n",
       "      <th></th>\n",
       "      <th>correlation between error and variance</th>\n",
       "      <th>coverage probability</th>\n",
       "      <th>error normalcy</th>\n",
       "      <th>rsme</th>\n",
       "    </tr>\n",
       "  </thead>\n",
       "  <tbody>\n",
       "    <tr>\n",
       "      <th>0</th>\n",
       "      <td>0.709284</td>\n",
       "      <td>0.670659</td>\n",
       "      <td>155.422591</td>\n",
       "      <td>5.948817</td>\n",
       "    </tr>\n",
       "    <tr>\n",
       "      <th>1</th>\n",
       "      <td>0.568009</td>\n",
       "      <td>0.640719</td>\n",
       "      <td>171.402505</td>\n",
       "      <td>4.764976</td>\n",
       "    </tr>\n",
       "    <tr>\n",
       "      <th>2</th>\n",
       "      <td>0.743568</td>\n",
       "      <td>0.856287</td>\n",
       "      <td>97.953866</td>\n",
       "      <td>8.654390</td>\n",
       "    </tr>\n",
       "    <tr>\n",
       "      <th>3</th>\n",
       "      <td>0.447542</td>\n",
       "      <td>0.664671</td>\n",
       "      <td>146.899865</td>\n",
       "      <td>5.653670</td>\n",
       "    </tr>\n",
       "    <tr>\n",
       "      <th>4</th>\n",
       "      <td>0.473649</td>\n",
       "      <td>0.838323</td>\n",
       "      <td>139.691831</td>\n",
       "      <td>8.009180</td>\n",
       "    </tr>\n",
       "  </tbody>\n",
       "</table>\n",
       "</div>"
      ],
      "text/plain": [
       "   correlation between error and variance  coverage probability  \\\n",
       "0                                0.709284              0.670659   \n",
       "1                                0.568009              0.640719   \n",
       "2                                0.743568              0.856287   \n",
       "3                                0.447542              0.664671   \n",
       "4                                0.473649              0.838323   \n",
       "\n",
       "   error normalcy      rsme  \n",
       "0      155.422591  5.948817  \n",
       "1      171.402505  4.764976  \n",
       "2       97.953866  8.654390  \n",
       "3      146.899865  5.653670  \n",
       "4      139.691831  8.009180  "
      ]
     },
     "execution_count": 8,
     "metadata": {},
     "output_type": "execute_result"
    }
   ],
   "source": [
    "df_mixed_results.head()"
   ]
  },
  {
   "cell_type": "code",
   "execution_count": 9,
   "metadata": {},
   "outputs": [
    {
     "data": {
      "text/html": [
       "<div>\n",
       "<style>\n",
       "    .dataframe thead tr:only-child th {\n",
       "        text-align: right;\n",
       "    }\n",
       "\n",
       "    .dataframe thead th {\n",
       "        text-align: left;\n",
       "    }\n",
       "\n",
       "    .dataframe tbody tr th {\n",
       "        vertical-align: top;\n",
       "    }\n",
       "</style>\n",
       "<table border=\"1\" class=\"dataframe\">\n",
       "  <thead>\n",
       "    <tr style=\"text-align: right;\">\n",
       "      <th></th>\n",
       "      <th>correlation between error and variance</th>\n",
       "      <th>coverage probability</th>\n",
       "      <th>error normalcy</th>\n",
       "      <th>rsme</th>\n",
       "    </tr>\n",
       "  </thead>\n",
       "  <tbody>\n",
       "    <tr>\n",
       "      <th>count</th>\n",
       "      <td>100.000000</td>\n",
       "      <td>100.000000</td>\n",
       "      <td>100.000000</td>\n",
       "      <td>100.000000</td>\n",
       "    </tr>\n",
       "    <tr>\n",
       "      <th>mean</th>\n",
       "      <td>0.549275</td>\n",
       "      <td>0.736826</td>\n",
       "      <td>124.767881</td>\n",
       "      <td>7.227343</td>\n",
       "    </tr>\n",
       "    <tr>\n",
       "      <th>std</th>\n",
       "      <td>0.132309</td>\n",
       "      <td>0.104739</td>\n",
       "      <td>50.086623</td>\n",
       "      <td>1.709246</td>\n",
       "    </tr>\n",
       "    <tr>\n",
       "      <th>min</th>\n",
       "      <td>0.269538</td>\n",
       "      <td>0.514970</td>\n",
       "      <td>23.318366</td>\n",
       "      <td>4.658908</td>\n",
       "    </tr>\n",
       "    <tr>\n",
       "      <th>25%</th>\n",
       "      <td>0.462031</td>\n",
       "      <td>0.652695</td>\n",
       "      <td>74.811449</td>\n",
       "      <td>5.616888</td>\n",
       "    </tr>\n",
       "    <tr>\n",
       "      <th>50%</th>\n",
       "      <td>0.537438</td>\n",
       "      <td>0.733533</td>\n",
       "      <td>146.989645</td>\n",
       "      <td>7.020391</td>\n",
       "    </tr>\n",
       "    <tr>\n",
       "      <th>75%</th>\n",
       "      <td>0.609805</td>\n",
       "      <td>0.844311</td>\n",
       "      <td>166.559635</td>\n",
       "      <td>8.621699</td>\n",
       "    </tr>\n",
       "    <tr>\n",
       "      <th>max</th>\n",
       "      <td>0.858228</td>\n",
       "      <td>0.916168</td>\n",
       "      <td>208.962539</td>\n",
       "      <td>11.026641</td>\n",
       "    </tr>\n",
       "  </tbody>\n",
       "</table>\n",
       "</div>"
      ],
      "text/plain": [
       "       correlation between error and variance  coverage probability  \\\n",
       "count                              100.000000            100.000000   \n",
       "mean                                 0.549275              0.736826   \n",
       "std                                  0.132309              0.104739   \n",
       "min                                  0.269538              0.514970   \n",
       "25%                                  0.462031              0.652695   \n",
       "50%                                  0.537438              0.733533   \n",
       "75%                                  0.609805              0.844311   \n",
       "max                                  0.858228              0.916168   \n",
       "\n",
       "       error normalcy        rsme  \n",
       "count      100.000000  100.000000  \n",
       "mean       124.767881    7.227343  \n",
       "std         50.086623    1.709246  \n",
       "min         23.318366    4.658908  \n",
       "25%         74.811449    5.616888  \n",
       "50%        146.989645    7.020391  \n",
       "75%        166.559635    8.621699  \n",
       "max        208.962539   11.026641  "
      ]
     },
     "execution_count": 9,
     "metadata": {},
     "output_type": "execute_result"
    }
   ],
   "source": [
    "df_mixed_results.describe()"
   ]
  },
  {
   "cell_type": "code",
   "execution_count": 10,
   "metadata": {},
   "outputs": [
    {
     "data": {
      "text/plain": [
       "array([[<matplotlib.axes._subplots.AxesSubplot object at 0x11af95ba8>,\n",
       "        <matplotlib.axes._subplots.AxesSubplot object at 0x11b81ab00>],\n",
       "       [<matplotlib.axes._subplots.AxesSubplot object at 0x11c0e71d0>,\n",
       "        <matplotlib.axes._subplots.AxesSubplot object at 0x11c0aea58>]], dtype=object)"
      ]
     },
     "execution_count": 10,
     "metadata": {},
     "output_type": "execute_result"
    },
    {
     "data": {
      "image/png": "[encoded data removed]",
      "text/plain": [
       "<matplotlib.figure.Figure at 0x11b810ba8>"
      ]
     },
     "metadata": {},
     "output_type": "display_data"
    }
   ],
   "source": [
    "df_mixed_results.hist(**hist_params)"
   ]
  },
  {
   "cell_type": "markdown",
   "metadata": {},
   "source": [
    "## Bootstrap"
   ]
  },
  {
   "cell_type": "code",
   "execution_count": 11,
   "metadata": {},
   "outputs": [],
   "source": [
    "results_list = []\n",
    "\n",
    "for i in range(num_experiments):\n",
    "    bootstrap_ensemble = ensemble.BootstrapEnsemble()\n",
    "\n",
    "    bootstrap_ensemble.fit(X_train,y_train)\n",
    "    results = bootstrap_ensemble.self_evaluate(X_test,y_test)\n",
    "    results_list.append(results)\n",
    "    \n",
    "df_bootstrap_results = pd.DataFrame.from_records(results_list)"
   ]
  },
  {
   "cell_type": "code",
   "execution_count": 12,
   "metadata": {},
   "outputs": [
    {
     "data": {
      "text/html": [
       "<div>\n",
       "<style>\n",
       "    .dataframe thead tr:only-child th {\n",
       "        text-align: right;\n",
       "    }\n",
       "\n",
       "    .dataframe thead th {\n",
       "        text-align: left;\n",
       "    }\n",
       "\n",
       "    .dataframe tbody tr th {\n",
       "        vertical-align: top;\n",
       "    }\n",
       "</style>\n",
       "<table border=\"1\" class=\"dataframe\">\n",
       "  <thead>\n",
       "    <tr style=\"text-align: right;\">\n",
       "      <th></th>\n",
       "      <th>correlation between error and variance</th>\n",
       "      <th>coverage probability</th>\n",
       "      <th>error normalcy</th>\n",
       "      <th>rsme</th>\n",
       "    </tr>\n",
       "  </thead>\n",
       "  <tbody>\n",
       "    <tr>\n",
       "      <th>0</th>\n",
       "      <td>0.341927</td>\n",
       "      <td>0.700599</td>\n",
       "      <td>317.320808</td>\n",
       "      <td>3.689157</td>\n",
       "    </tr>\n",
       "    <tr>\n",
       "      <th>1</th>\n",
       "      <td>0.390470</td>\n",
       "      <td>0.700599</td>\n",
       "      <td>312.159660</td>\n",
       "      <td>3.737151</td>\n",
       "    </tr>\n",
       "    <tr>\n",
       "      <th>2</th>\n",
       "      <td>0.405410</td>\n",
       "      <td>0.706587</td>\n",
       "      <td>309.106718</td>\n",
       "      <td>3.742915</td>\n",
       "    </tr>\n",
       "    <tr>\n",
       "      <th>3</th>\n",
       "      <td>0.375338</td>\n",
       "      <td>0.676647</td>\n",
       "      <td>317.530249</td>\n",
       "      <td>3.679089</td>\n",
       "    </tr>\n",
       "    <tr>\n",
       "      <th>4</th>\n",
       "      <td>0.412284</td>\n",
       "      <td>0.712575</td>\n",
       "      <td>313.756173</td>\n",
       "      <td>3.749259</td>\n",
       "    </tr>\n",
       "  </tbody>\n",
       "</table>\n",
       "</div>"
      ],
      "text/plain": [
       "   correlation between error and variance  coverage probability  \\\n",
       "0                                0.341927              0.700599   \n",
       "1                                0.390470              0.700599   \n",
       "2                                0.405410              0.706587   \n",
       "3                                0.375338              0.676647   \n",
       "4                                0.412284              0.712575   \n",
       "\n",
       "   error normalcy      rsme  \n",
       "0      317.320808  3.689157  \n",
       "1      312.159660  3.737151  \n",
       "2      309.106718  3.742915  \n",
       "3      317.530249  3.679089  \n",
       "4      313.756173  3.749259  "
      ]
     },
     "execution_count": 12,
     "metadata": {},
     "output_type": "execute_result"
    }
   ],
   "source": [
    "df_bootstrap_results.head()"
   ]
  },
  {
   "cell_type": "code",
   "execution_count": 13,
   "metadata": {},
   "outputs": [
    {
     "data": {
      "text/html": [
       "<div>\n",
       "<style>\n",
       "    .dataframe thead tr:only-child th {\n",
       "        text-align: right;\n",
       "    }\n",
       "\n",
       "    .dataframe thead th {\n",
       "        text-align: left;\n",
       "    }\n",
       "\n",
       "    .dataframe tbody tr th {\n",
       "        vertical-align: top;\n",
       "    }\n",
       "</style>\n",
       "<table border=\"1\" class=\"dataframe\">\n",
       "  <thead>\n",
       "    <tr style=\"text-align: right;\">\n",
       "      <th></th>\n",
       "      <th>correlation between error and variance</th>\n",
       "      <th>coverage probability</th>\n",
       "      <th>error normalcy</th>\n",
       "      <th>rsme</th>\n",
       "    </tr>\n",
       "  </thead>\n",
       "  <tbody>\n",
       "    <tr>\n",
       "      <th>count</th>\n",
       "      <td>100.000000</td>\n",
       "      <td>100.000000</td>\n",
       "      <td>100.000000</td>\n",
       "      <td>100.000000</td>\n",
       "    </tr>\n",
       "    <tr>\n",
       "      <th>mean</th>\n",
       "      <td>0.384230</td>\n",
       "      <td>0.695030</td>\n",
       "      <td>316.295650</td>\n",
       "      <td>3.737984</td>\n",
       "    </tr>\n",
       "    <tr>\n",
       "      <th>std</th>\n",
       "      <td>0.019782</td>\n",
       "      <td>0.017777</td>\n",
       "      <td>3.543177</td>\n",
       "      <td>0.043787</td>\n",
       "    </tr>\n",
       "    <tr>\n",
       "      <th>min</th>\n",
       "      <td>0.326123</td>\n",
       "      <td>0.652695</td>\n",
       "      <td>308.210176</td>\n",
       "      <td>3.644669</td>\n",
       "    </tr>\n",
       "    <tr>\n",
       "      <th>25%</th>\n",
       "      <td>0.373587</td>\n",
       "      <td>0.682635</td>\n",
       "      <td>313.916179</td>\n",
       "      <td>3.708046</td>\n",
       "    </tr>\n",
       "    <tr>\n",
       "      <th>50%</th>\n",
       "      <td>0.384906</td>\n",
       "      <td>0.694611</td>\n",
       "      <td>316.829040</td>\n",
       "      <td>3.736584</td>\n",
       "    </tr>\n",
       "    <tr>\n",
       "      <th>75%</th>\n",
       "      <td>0.398186</td>\n",
       "      <td>0.706587</td>\n",
       "      <td>318.476823</td>\n",
       "      <td>3.762776</td>\n",
       "    </tr>\n",
       "    <tr>\n",
       "      <th>max</th>\n",
       "      <td>0.433743</td>\n",
       "      <td>0.748503</td>\n",
       "      <td>324.396046</td>\n",
       "      <td>3.855565</td>\n",
       "    </tr>\n",
       "  </tbody>\n",
       "</table>\n",
       "</div>"
      ],
      "text/plain": [
       "       correlation between error and variance  coverage probability  \\\n",
       "count                              100.000000            100.000000   \n",
       "mean                                 0.384230              0.695030   \n",
       "std                                  0.019782              0.017777   \n",
       "min                                  0.326123              0.652695   \n",
       "25%                                  0.373587              0.682635   \n",
       "50%                                  0.384906              0.694611   \n",
       "75%                                  0.398186              0.706587   \n",
       "max                                  0.433743              0.748503   \n",
       "\n",
       "       error normalcy        rsme  \n",
       "count      100.000000  100.000000  \n",
       "mean       316.295650    3.737984  \n",
       "std          3.543177    0.043787  \n",
       "min        308.210176    3.644669  \n",
       "25%        313.916179    3.708046  \n",
       "50%        316.829040    3.736584  \n",
       "75%        318.476823    3.762776  \n",
       "max        324.396046    3.855565  "
      ]
     },
     "execution_count": 13,
     "metadata": {},
     "output_type": "execute_result"
    }
   ],
   "source": [
    "df_bootstrap_results.describe()"
   ]
  },
  {
   "cell_type": "code",
   "execution_count": 14,
   "metadata": {},
   "outputs": [
    {
     "data": {
      "text/plain": [
       "array([[<matplotlib.axes._subplots.AxesSubplot object at 0x11b0b76d8>,\n",
       "        <matplotlib.axes._subplots.AxesSubplot object at 0x11c338e48>],\n",
       "       [<matplotlib.axes._subplots.AxesSubplot object at 0x11c6a5208>,\n",
       "        <matplotlib.axes._subplots.AxesSubplot object at 0x11c6f5a58>]], dtype=object)"
      ]
     },
     "execution_count": 14,
     "metadata": {},
     "output_type": "execute_result"
    },
    {
     "data": {
      "image/png": "[encoded data removed]",
      "text/plain": [
       "<matplotlib.figure.Figure at 0x11c268fd0>"
      ]
     },
     "metadata": {},
     "output_type": "display_data"
    }
   ],
   "source": [
    "df_bootstrap_results.hist(**hist_params)"
   ]
  },
  {
   "cell_type": "markdown",
   "metadata": {},
   "source": [
    "## Different Data Shuffling"
   ]
  },
  {
   "cell_type": "code",
   "execution_count": 15,
   "metadata": {},
   "outputs": [],
   "source": [
    "results_list = []\n",
    "\n",
    "for i in range(num_experiments):\n",
    "    shuffle_ensemble = ensemble.ShuffleEnsemble()\n",
    "    shuffle_ensemble.fit(X_train,y_train)\n",
    "    results = shuffle_ensemble.self_evaluate(X_test,y_test)\n",
    "    results_list.append(results)\n",
    "    \n",
    "df_shuffle_results = pd.DataFrame.from_records(results_list)"
   ]
  },
  {
   "cell_type": "code",
   "execution_count": 16,
   "metadata": {},
   "outputs": [
    {
     "data": {
      "text/html": [
       "<div>\n",
       "<style>\n",
       "    .dataframe thead tr:only-child th {\n",
       "        text-align: right;\n",
       "    }\n",
       "\n",
       "    .dataframe thead th {\n",
       "        text-align: left;\n",
       "    }\n",
       "\n",
       "    .dataframe tbody tr th {\n",
       "        vertical-align: top;\n",
       "    }\n",
       "</style>\n",
       "<table border=\"1\" class=\"dataframe\">\n",
       "  <thead>\n",
       "    <tr style=\"text-align: right;\">\n",
       "      <th></th>\n",
       "      <th>correlation between error and variance</th>\n",
       "      <th>coverage probability</th>\n",
       "      <th>error normalcy</th>\n",
       "      <th>rsme</th>\n",
       "    </tr>\n",
       "  </thead>\n",
       "  <tbody>\n",
       "    <tr>\n",
       "      <th>0</th>\n",
       "      <td>-0.043832</td>\n",
       "      <td>0.155689</td>\n",
       "      <td>245.877752</td>\n",
       "      <td>4.272332</td>\n",
       "    </tr>\n",
       "    <tr>\n",
       "      <th>1</th>\n",
       "      <td>-0.043276</td>\n",
       "      <td>0.143713</td>\n",
       "      <td>248.898127</td>\n",
       "      <td>4.235335</td>\n",
       "    </tr>\n",
       "    <tr>\n",
       "      <th>2</th>\n",
       "      <td>-0.042129</td>\n",
       "      <td>0.137725</td>\n",
       "      <td>247.147509</td>\n",
       "      <td>4.271655</td>\n",
       "    </tr>\n",
       "    <tr>\n",
       "      <th>3</th>\n",
       "      <td>-0.037384</td>\n",
       "      <td>0.143713</td>\n",
       "      <td>244.631836</td>\n",
       "      <td>4.268661</td>\n",
       "    </tr>\n",
       "    <tr>\n",
       "      <th>4</th>\n",
       "      <td>-0.028345</td>\n",
       "      <td>0.155689</td>\n",
       "      <td>243.608125</td>\n",
       "      <td>4.289932</td>\n",
       "    </tr>\n",
       "  </tbody>\n",
       "</table>\n",
       "</div>"
      ],
      "text/plain": [
       "   correlation between error and variance  coverage probability  \\\n",
       "0                               -0.043832              0.155689   \n",
       "1                               -0.043276              0.143713   \n",
       "2                               -0.042129              0.137725   \n",
       "3                               -0.037384              0.143713   \n",
       "4                               -0.028345              0.155689   \n",
       "\n",
       "   error normalcy      rsme  \n",
       "0      245.877752  4.272332  \n",
       "1      248.898127  4.235335  \n",
       "2      247.147509  4.271655  \n",
       "3      244.631836  4.268661  \n",
       "4      243.608125  4.289932  "
      ]
     },
     "execution_count": 16,
     "metadata": {},
     "output_type": "execute_result"
    }
   ],
   "source": [
    "df_shuffle_results.head()"
   ]
  },
  {
   "cell_type": "code",
   "execution_count": 17,
   "metadata": {},
   "outputs": [
    {
     "data": {
      "text/html": [
       "<div>\n",
       "<style>\n",
       "    .dataframe thead tr:only-child th {\n",
       "        text-align: right;\n",
       "    }\n",
       "\n",
       "    .dataframe thead th {\n",
       "        text-align: left;\n",
       "    }\n",
       "\n",
       "    .dataframe tbody tr th {\n",
       "        vertical-align: top;\n",
       "    }\n",
       "</style>\n",
       "<table border=\"1\" class=\"dataframe\">\n",
       "  <thead>\n",
       "    <tr style=\"text-align: right;\">\n",
       "      <th></th>\n",
       "      <th>correlation between error and variance</th>\n",
       "      <th>coverage probability</th>\n",
       "      <th>error normalcy</th>\n",
       "      <th>rsme</th>\n",
       "    </tr>\n",
       "  </thead>\n",
       "  <tbody>\n",
       "    <tr>\n",
       "      <th>count</th>\n",
       "      <td>100.000000</td>\n",
       "      <td>100.000000</td>\n",
       "      <td>100.000000</td>\n",
       "      <td>100.000000</td>\n",
       "    </tr>\n",
       "    <tr>\n",
       "      <th>mean</th>\n",
       "      <td>-0.038914</td>\n",
       "      <td>0.152814</td>\n",
       "      <td>245.268765</td>\n",
       "      <td>4.279431</td>\n",
       "    </tr>\n",
       "    <tr>\n",
       "      <th>std</th>\n",
       "      <td>0.013856</td>\n",
       "      <td>0.010849</td>\n",
       "      <td>1.870158</td>\n",
       "      <td>0.031453</td>\n",
       "    </tr>\n",
       "    <tr>\n",
       "      <th>min</th>\n",
       "      <td>-0.096954</td>\n",
       "      <td>0.119760</td>\n",
       "      <td>240.703979</td>\n",
       "      <td>4.180603</td>\n",
       "    </tr>\n",
       "    <tr>\n",
       "      <th>25%</th>\n",
       "      <td>-0.045726</td>\n",
       "      <td>0.143713</td>\n",
       "      <td>243.997289</td>\n",
       "      <td>4.262554</td>\n",
       "    </tr>\n",
       "    <tr>\n",
       "      <th>50%</th>\n",
       "      <td>-0.038212</td>\n",
       "      <td>0.149701</td>\n",
       "      <td>245.279552</td>\n",
       "      <td>4.278623</td>\n",
       "    </tr>\n",
       "    <tr>\n",
       "      <th>75%</th>\n",
       "      <td>-0.030744</td>\n",
       "      <td>0.161677</td>\n",
       "      <td>246.607091</td>\n",
       "      <td>4.298290</td>\n",
       "    </tr>\n",
       "    <tr>\n",
       "      <th>max</th>\n",
       "      <td>-0.005093</td>\n",
       "      <td>0.173653</td>\n",
       "      <td>250.677274</td>\n",
       "      <td>4.351143</td>\n",
       "    </tr>\n",
       "  </tbody>\n",
       "</table>\n",
       "</div>"
      ],
      "text/plain": [
       "       correlation between error and variance  coverage probability  \\\n",
       "count                              100.000000            100.000000   \n",
       "mean                                -0.038914              0.152814   \n",
       "std                                  0.013856              0.010849   \n",
       "min                                 -0.096954              0.119760   \n",
       "25%                                 -0.045726              0.143713   \n",
       "50%                                 -0.038212              0.149701   \n",
       "75%                                 -0.030744              0.161677   \n",
       "max                                 -0.005093              0.173653   \n",
       "\n",
       "       error normalcy        rsme  \n",
       "count      100.000000  100.000000  \n",
       "mean       245.268765    4.279431  \n",
       "std          1.870158    0.031453  \n",
       "min        240.703979    4.180603  \n",
       "25%        243.997289    4.262554  \n",
       "50%        245.279552    4.278623  \n",
       "75%        246.607091    4.298290  \n",
       "max        250.677274    4.351143  "
      ]
     },
     "execution_count": 17,
     "metadata": {},
     "output_type": "execute_result"
    }
   ],
   "source": [
    "df_shuffle_results.describe()"
   ]
  },
  {
   "cell_type": "code",
   "execution_count": 18,
   "metadata": {},
   "outputs": [
    {
     "data": {
      "text/plain": [
       "array([[<matplotlib.axes._subplots.AxesSubplot object at 0x11c8c9630>,\n",
       "        <matplotlib.axes._subplots.AxesSubplot object at 0x11cc355f8>],\n",
       "       [<matplotlib.axes._subplots.AxesSubplot object at 0x11c9597b8>,\n",
       "        <matplotlib.axes._subplots.AxesSubplot object at 0x11ccc8fd0>]], dtype=object)"
      ]
     },
     "execution_count": 18,
     "metadata": {},
     "output_type": "execute_result"
    },
    {
     "data": {
      "image/png": "[encoded data removed]",
      "text/plain": [
       "<matplotlib.figure.Figure at 0x11af9ba20>"
      ]
     },
     "metadata": {},
     "output_type": "display_data"
    }
   ],
   "source": [
    "df_shuffle_results.hist(**hist_params)"
   ]
  },
  {
   "cell_type": "code",
   "execution_count": null,
   "metadata": {},
   "outputs": [],
   "source": []
  },
  {
   "cell_type": "code",
   "execution_count": null,
   "metadata": {},
   "outputs": [],
   "source": []
  },
  {
   "cell_type": "code",
   "execution_count": null,
   "metadata": {},
   "outputs": [],
   "source": []
  }
 ],
 "metadata": {
  "kernelspec": {
   "display_name": "Python 3",
   "language": "python",
   "name": "python3"
  },
  "language_info": {
   "codemirror_mode": {
    "name": "ipython",
    "version": 3
   },
   "file_extension": ".py",
   "mimetype": "text/x-python",
   "name": "python",
   "nbconvert_exporter": "python",
   "pygments_lexer": "ipython3",
   "version": "3.5.4"
  }
 },
 "nbformat": 4,
 "nbformat_minor": 2
}
